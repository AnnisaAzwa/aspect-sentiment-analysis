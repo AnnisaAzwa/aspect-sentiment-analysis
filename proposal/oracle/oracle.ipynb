{
 "cells": [
  {
   "cell_type": "code",
   "execution_count": 67,
   "metadata": {},
   "outputs": [],
   "source": [
    "import numpy as np\n",
    "import pandas as pd\n",
    "from sklearn.feature_extraction.text import TfidfVectorizer\n",
    "from sklearn.feature_extraction.text import CountVectorizer\n",
    "from sklearn.naive_bayes import MultinomialNB"
   ]
  },
  {
   "cell_type": "code",
   "execution_count": 232,
   "metadata": {},
   "outputs": [
    {
     "name": "stdout",
     "output_type": "stream",
     "text": [
      "0     Cleaner did not change our sheet and duvet ev...\n",
      "1     Good location Set in a lovely park friendly s...\n",
      "2     Rooms were stunningly decorated and really sp...\n",
      "3     Comfy bed good location   The floor in my roo...\n",
      "4     Very steep steps in room up to the bed not sa...\n",
      "Name: 0, dtype: object\n",
      "0    1\n",
      "1    0\n",
      "2    1\n",
      "3   -1\n",
      "4   -1\n",
      "Name: 1, dtype: int64\n",
      "0     This is the third time we stayed at this hote...\n",
      "1     Bath towels are the size of a face towel For ...\n",
      "2     The hotel was in a brilliant location The sta...\n",
      "3     Location very quiet street but only a stone t...\n",
      "4     Location was just excellent Staff were very f...\n",
      "Name: 0, dtype: object\n",
      "0    1\n",
      "1    0\n",
      "2    1\n",
      "3    1\n",
      "4   -1\n",
      "Name: 1, dtype: int64\n"
     ]
    }
   ],
   "source": [
    "data_train = pd.read_csv(\"C:\\\\Learning\\\\Stanford\\\\CS221\\\\Autumn2019\\\\project\\\\proposal\\\\oracle\\\\room.tsv\", header=None, delimiter='\\t', encoding='utf-8', keep_default_na=False)\n",
    "data_test = pd.read_csv(\"C:\\\\Learning\\\\Stanford\\\\CS221\\\\Autumn2019\\\\project\\\\proposal\\\\baseline\\\\room.tsv\", header=None, delimiter='\\t', encoding='utf-8', keep_default_na=False)\n",
    "\n",
    "X_train = data_train.iloc[:,0]\n",
    "y_train = data_train.iloc[:,1]\n",
    "\n",
    "X_test = data_test.iloc[:,0]\n",
    "y_test = data_test.iloc[:,1]\n",
    "\n",
    "print(X_train.head())\n",
    "print(y_train.head())\n",
    "print(X_test.head())\n",
    "print(y_test.head())"
   ]
  },
  {
   "cell_type": "code",
   "execution_count": 233,
   "metadata": {},
   "outputs": [
    {
     "name": "stdout",
     "output_type": "stream",
     "text": [
      "(30, 4786)\n"
     ]
    }
   ],
   "source": [
    "tfidf_vectorizer = CountVectorizer(ngram_range=(1,3)).fit([' '.join(X_train)])\n",
    "X_train_tfidf = tfidf_vectorizer.transform(X_train)\n",
    "print(X_train_tfidf.shape)"
   ]
  },
  {
   "cell_type": "code",
   "execution_count": 234,
   "metadata": {},
   "outputs": [],
   "source": [
    "clf = MultinomialNB().fit(X_train_tfidf, y_train)"
   ]
  },
  {
   "cell_type": "code",
   "execution_count": 235,
   "metadata": {},
   "outputs": [
    {
     "name": "stdout",
     "output_type": "stream",
     "text": [
      "Train accuracy\n"
     ]
    },
    {
     "data": {
      "text/plain": [
       "1.0"
      ]
     },
     "execution_count": 235,
     "metadata": {},
     "output_type": "execute_result"
    }
   ],
   "source": [
    "predicted = clf.predict(X_train_tfidf)\n",
    "print('Train accuracy')\n",
    "np.mean(predicted == y_train)  "
   ]
  },
  {
   "cell_type": "code",
   "execution_count": 236,
   "metadata": {},
   "outputs": [
    {
     "name": "stdout",
     "output_type": "stream",
     "text": [
      "(20, 4786)\n"
     ]
    }
   ],
   "source": [
    "X_test_tfidf = tfidf_vectorizer.transform(X_test)\n",
    "print(X_test_tfidf.shape)"
   ]
  },
  {
   "cell_type": "code",
   "execution_count": 237,
   "metadata": {},
   "outputs": [
    {
     "name": "stdout",
     "output_type": "stream",
     "text": [
      "Test accuracy\n"
     ]
    },
    {
     "data": {
      "text/plain": [
       "0.45"
      ]
     },
     "execution_count": 237,
     "metadata": {},
     "output_type": "execute_result"
    }
   ],
   "source": [
    "predicted = clf.predict(X_test_tfidf)\n",
    "print('Test accuracy')\n",
    "np.mean(predicted == y_test)  "
   ]
  },
  {
   "cell_type": "code",
   "execution_count": 238,
   "metadata": {},
   "outputs": [
    {
     "name": "stdout",
     "output_type": "stream",
     "text": [
      "[-1  1  1  1 -1  1  1 -1 -1  1  1 -1 -1  1 -1  1  1  1 -1  1]\n"
     ]
    }
   ],
   "source": [
    "print(predicted)"
   ]
  },
  {
   "cell_type": "code",
   "execution_count": 239,
   "metadata": {},
   "outputs": [
    {
     "name": "stdout",
     "output_type": "stream",
     "text": [
      "0     1\n",
      "1     0\n",
      "2     1\n",
      "3     1\n",
      "4    -1\n",
      "5     1\n",
      "6    -1\n",
      "7    -1\n",
      "8     0\n",
      "9     1\n",
      "10    1\n",
      "11    0\n",
      "12    0\n",
      "13    1\n",
      "14   -1\n",
      "15   -1\n",
      "16    0\n",
      "17    0\n",
      "18    1\n",
      "19    0\n",
      "Name: 1, dtype: int64\n"
     ]
    }
   ],
   "source": [
    "print(y_test)"
   ]
  },
  {
   "cell_type": "code",
   "execution_count": null,
   "metadata": {},
   "outputs": [],
   "source": []
  }
 ],
 "metadata": {
  "kernelspec": {
   "display_name": "Python 3",
   "language": "python",
   "name": "python3"
  },
  "language_info": {
   "codemirror_mode": {
    "name": "ipython",
    "version": 3
   },
   "file_extension": ".py",
   "mimetype": "text/x-python",
   "name": "python",
   "nbconvert_exporter": "python",
   "pygments_lexer": "ipython3",
   "version": "3.6.4"
  }
 },
 "nbformat": 4,
 "nbformat_minor": 2
}
